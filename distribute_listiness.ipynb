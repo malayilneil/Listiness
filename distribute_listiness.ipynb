{
  "metadata": {
    "colab": {
      "collapsed_sections": [],
      "name": "L1 - lec2.ipynb",
      "provenance": []
    },
    "kernelspec": {
      "display_name": "Python 3",
      "language": "python",
      "name": "python3"
    },
    "language_info": {
      "codemirror_mode": {
        "name": "ipython",
        "version": 3
      },
      "file_extension": ".py",
      "mimetype": "text/x-python",
      "name": "python",
      "nbconvert_exporter": "python",
      "pygments_lexer": "ipython3",
      "version": "3.6.8"
    }
  },
  "nbformat": 4,
  "nbformat_minor": 2,
  "cells": [
    {
      "cell_type": "markdown",
      "metadata": {},
      "source": [
        "# Listiness.. or things that behave like lists"
      ]
    },
    {
      "cell_type": "markdown",
      "metadata": {},
      "source": [
        "Python puts great stock in the idea of having  **protocols** or mechanisms of behavior, and identifying cases in which this behavior is common.\n",
        "\n",
        "One of the most important ideas is that of things that behave like a *list of items*. "
      ]
    },
    {
      "cell_type": "markdown",
      "metadata": {
        "colab_type": "text",
        "id": "jDynSCDMwHcC"
      },
      "source": [
        "## Lists\n",
        "\n",
        "The first of these that we should consider, are, well, lists themselves :-). Lets see how python lists behave.\n",
        "\n",
        "A list in Python is a sequence of anything!\n",
        "\n",
        "Lists are mutable; you can insert and delete elements anytime."
      ]
    },
    {
      "cell_type": "code",
      "execution_count": 1,
      "metadata": {
        "colab": {},
        "colab_type": "code",
        "id": "kDz4HzEbwORg"
      },
      "outputs": [],
      "source": [
        "# CREATING A LIST\n",
        "\n",
        "# A list is made from zero or more elements, separated by commas, and surrounded by square\n",
        "empty_list = []\n",
        "working_days = ['Monday', 'Tuesday', 'Wednesday', 'Thursday', 'Friday']\n",
        "print (working_days[2])"
      ]
    },
    {
      "cell_type": "markdown",
      "metadata": {},
      "source": [
        "Notice that Python lists are indexed from 0. The first element gets index 0, the second element gets index 1, and so on. Thus `working_days[2]` gives us the 3rd element."
      ]
    },
    {
      "cell_type": "code",
      "execution_count": 2,
      "metadata": {
        "colab": {},
        "colab_type": "code",
        "id": "kDz4HzEbwORg"
      },
      "outputs": [],
      "source": [
        "# An empty list can be created using the list() function:\n",
        "next_empty_list = list()\n",
        "print (type(next_empty_list))"
      ]
    },
    {
      "cell_type": "markdown",
      "metadata": {},
      "source": [
        "There is a class of objects in Python that are not lists, bur rather, like lists, have a sequential existent. We dont want to generate them until we need them because they are easy to generate and would otherwise take up memory. An example is the\n",
        "object created by the function `range(start, stop)` which just gives you sequential numbers from start to 1 before stop. To generate these numbers, we can pass them to the `list` function"
      ]
    },
    {
      "cell_type": "code",
      "execution_count": 4,
      "metadata": {
        "colab": {},
        "colab_type": "code",
        "id": "2w00JDg0wS3-"
      },
      "outputs": [],
      "source": [
        "num_list = list(range(1,10)) \n",
        "print(num_list) "
      ]
    },
    {
      "cell_type": "code",
      "execution_count": 5,
      "metadata": {
        "colab": {},
        "colab_type": "code",
        "id": "VwQolwoUwUfE"
      },
      "outputs": [],
      "source": [
        "# Lists are mutable (elements are changeable) \n",
        "num_list = [1, 2, 3, 4]\n",
        "num_list[1] = 8 \n",
        "print (num_list)"
      ]
    },
    {
      "cell_type": "code",
      "execution_count": 6,
      "metadata": {
        "colab": {},
        "colab_type": "code",
        "id": "sdBbnLTVwXJf"
      },
      "outputs": [],
      "source": [
        "# Indexing a list\n",
        "# - Any integer expression can be used as an index\n",
        "# - If an index has a negative value, it counts from backward\n",
        "lst = list(range(1,5))\n",
        "print(lst)\n",
        "print (lst[-1])"
      ]
    },
    {
      "cell_type": "markdown",
      "metadata": {},
      "source": [
        "You can get slices of lists"
      ]
    },
    {
      "cell_type": "code",
      "execution_count": 30,
      "metadata": {},
      "outputs": [],
      "source": [
        "lst[0:3] # from 0, dont include whats at index 3"
      ]
    },
    {
      "cell_type": "code",
      "execution_count": 31,
      "metadata": {},
      "outputs": [],
      "source": [
        "lst[-3:-1]"
      ]
    },
    {
      "cell_type": "code",
      "execution_count": 7,
      "metadata": {
        "colab": {},
        "colab_type": "code",
        "id": "dsEJup_xwZYQ"
      },
      "outputs": [],
      "source": [
        "# A list can have another list, or anything else as its element\n",
        "numbers = [1, 2, 3, 4, 5]\n",
        "courses = ['PP', 'BDA', \"USP\", 'WTA'] \n",
        "new_list = [numbers, courses, '6th sem'] \n",
        "print (new_list, len(new_list))"
      ]
    },
    {
      "cell_type": "code",
      "execution_count": 8,
      "metadata": {
        "colab": {},
        "colab_type": "code",
        "id": "HiJrKfxtwboy"
      },
      "outputs": [],
      "source": [
        "# List Operations\n",
        "# '+' for concatenation\n",
        "list_a = ['a','b','c'] \n",
        "list_no = [1, 2, 3, 4] \n",
        "list_new = list_a + list_no\n",
        "print (list_new)"
      ]
    },
    {
      "cell_type": "code",
      "execution_count": 9,
      "metadata": {
        "colab": {},
        "colab_type": "code",
        "id": "yxPMSYv2wi4y"
      },
      "outputs": [],
      "source": [
        "#Membership (using 'in' operator)\n",
        "'a' in list_a"
      ]
    },
    {
      "cell_type": "markdown",
      "metadata": {},
      "source": [
        "## Operations on lists\n",
        "\n",
        "Lists support many methods which make using them simple. My favorite is `append`.\n",
        "\n",
        "### Growing lists"
      ]
    },
    {
      "cell_type": "code",
      "execution_count": 10,
      "metadata": {
        "colab": {},
        "colab_type": "code",
        "id": "N8t4LmEAwlLf"
      },
      "outputs": [],
      "source": [
        "# GROWING METHODS\n",
        "# (i) append(x) - Adds a new element 'x' at the end of the list\n",
        "alist = ['a', 'b', 'c'] \n",
        "alist.append('d') \n",
        "print (alist)"
      ]
    },
    {
      "cell_type": "code",
      "execution_count": 11,
      "metadata": {
        "colab": {},
        "colab_type": "code",
        "id": "n1yaZeCJwuYN"
      },
      "outputs": [],
      "source": [
        "# (ii) extend(list) - Adds a list to another list \n",
        "alist.extend(list_no)\n",
        "print (alist)"
      ]
    },
    {
      "cell_type": "code",
      "execution_count": 12,
      "metadata": {
        "colab": {},
        "colab_type": "code",
        "id": "eYF5krW9ww1a"
      },
      "outputs": [],
      "source": [
        "# (iii) insert(i, x) - inserts a new element 'x' at specified index 'i' \n",
        "alist.insert(4,'e')\n",
        "print(alist)"
      ]
    },
    {
      "cell_type": "markdown",
      "metadata": {},
      "source": [
        "### Searching and Sorting"
      ]
    },
    {
      "cell_type": "code",
      "execution_count": 13,
      "metadata": {
        "colab": {},
        "colab_type": "code",
        "id": "EWEB7esEwyt2"
      },
      "outputs": [],
      "source": [
        "# Searching methods\n",
        "# (i) index(x) - returns the index value of 'x' in the list\n",
        "alist = [1, 2, 3, 4, 5] \n",
        "alist.index(3)"
      ]
    },
    {
      "cell_type": "code",
      "execution_count": 14,
      "metadata": {
        "colab": {},
        "colab_type": "code",
        "id": "MtRQRHVZw0nR"
      },
      "outputs": [],
      "source": [
        "# (ii) count(x) - returns the number of occurrence of 'x' in the list eg:\n",
        "alist.append(3)\n",
        "print (alist) \n",
        "alist.count(3)"
      ]
    },
    {
      "cell_type": "code",
      "execution_count": 15,
      "metadata": {
        "colab": {},
        "colab_type": "code",
        "id": "QwRPFMVkw3b3"
      },
      "outputs": [],
      "source": [
        "# SORTING METHODS\n",
        "# (a) sort() - Orders a list 'in place'. Default ordering - ascending order\n",
        "num = [4, 2, 7, 3, 9, 1] \n",
        "num.sort()\n",
        "num"
      ]
    },
    {
      "cell_type": "code",
      "execution_count": 16,
      "metadata": {
        "colab": {},
        "colab_type": "code",
        "id": "72v6hE4rw51Y"
      },
      "outputs": [],
      "source": [
        "# To change the order of sorting, use the keyword 'reverse' as an argument to sort()\n",
        "num = [4, 2, 7, 3, 9, 1] \n",
        "num.sort(reverse = True)\n",
        "num"
      ]
    },
    {
      "cell_type": "code",
      "execution_count": 17,
      "metadata": {
        "colab": {},
        "colab_type": "code",
        "id": "C9YZUZcHw-4K"
      },
      "outputs": [],
      "source": [
        "# (b) sorted(list) - returns the sorted 'list', but does not replace order in original list \n",
        "num = [ 4, 6, 2]\n",
        "num = sorted(num)\n",
        "num"
      ]
    },
    {
      "cell_type": "markdown",
      "metadata": {},
      "source": [
        "### Changing and shortening\n",
        "\n",
        "You can change any list by individually changing an element. There are some other things you can do as well..."
      ]
    },
    {
      "cell_type": "code",
      "execution_count": 18,
      "metadata": {
        "colab": {},
        "colab_type": "code",
        "id": "MIaVMe2vxCPr"
      },
      "outputs": [],
      "source": [
        "# Reverse a list\n",
        "\n",
        "# reversed(list) - returns the reverse of 'list' as iterator eg:\n",
        "L = list(range(1,5))\n",
        "print (L)\n",
        "print (list(reversed(L)))"
      ]
    },
    {
      "cell_type": "code",
      "execution_count": 19,
      "metadata": {
        "colab": {},
        "colab_type": "code",
        "id": "lpMHr74qxF55"
      },
      "outputs": [],
      "source": [
        "# SHRINKING METHODS\n",
        "# (a) remove(x) - removes the element 'x' from the list\n",
        "num = [4, 7, 2, 6, 3, 9] \n",
        "num.remove(2)\n",
        "num"
      ]
    },
    {
      "cell_type": "code",
      "execution_count": 20,
      "metadata": {
        "colab": {},
        "colab_type": "code",
        "id": "a8W1o6D2xIyG"
      },
      "outputs": [],
      "source": [
        "# (b) pop(i) - removes and returns the element in index position 'i'\n",
        "num = [4, 7, 2, 6, 3, 9] \n",
        "num.pop(3)\n",
        "num"
      ]
    },
    {
      "cell_type": "code",
      "execution_count": 21,
      "metadata": {
        "colab": {},
        "colab_type": "code",
        "id": "leECdDJzxLcU"
      },
      "outputs": [],
      "source": [
        "# (c) pop() - removes the last element from the list\n",
        "num = [4, 7, 2, 6, 3, 9] \n",
        "num.pop()\n",
        "num"
      ]
    },
    {
      "cell_type": "code",
      "execution_count": 22,
      "metadata": {
        "colab": {},
        "colab_type": "code",
        "id": "u3mw0lvxxN5M"
      },
      "outputs": [],
      "source": [
        "# (d) clear() - removes all the elements from a list.\n",
        "num = [4, 7, 2, 6, 3, 9]\n",
        "num.clear()\n",
        "num"
      ]
    },
    {
      "cell_type": "markdown",
      "metadata": {},
      "source": [
        "## Iterating over lists\n",
        "\n",
        "Using a for loop to do iteration is quite simple."
      ]
    },
    {
      "cell_type": "code",
      "execution_count": 23,
      "metadata": {},
      "outputs": [],
      "source": [
        "num = [4, 7, 2, 6, 3, 9]\n",
        "for ele in num:\n",
        "    print(ele)"
      ]
    },
    {
      "cell_type": "markdown",
      "metadata": {},
      "source": [
        "You can now mix in conditionals to filter your iteration:"
      ]
    },
    {
      "cell_type": "code",
      "execution_count": 24,
      "metadata": {},
      "outputs": [],
      "source": [
        "for ele in num:\n",
        "    if ele % 2 == 0: #even numbers only\n",
        "        print(ele)"
      ]
    },
    {
      "cell_type": "markdown",
      "metadata": {},
      "source": [
        "There is a short-cut iteration syntax called a list comprehension, often used to construct new lists"
      ]
    },
    {
      "cell_type": "code",
      "execution_count": 25,
      "metadata": {},
      "outputs": [],
      "source": [
        "list_with_same_as_num = [e for e in num]\n",
        "list_with_same_as_num"
      ]
    },
    {
      "cell_type": "markdown",
      "metadata": {},
      "source": [
        "This kind of syntax is really useful when combined with conditionals:"
      ]
    },
    {
      "cell_type": "code",
      "execution_count": 26,
      "metadata": {},
      "outputs": [],
      "source": [
        "list_with_evens = [e for e in num if e % 2 == 0]\n",
        "list_with_evens"
      ]
    },
    {
      "cell_type": "markdown",
      "metadata": {
        "colab_type": "text",
        "id": "-kKCRDDZoNvk"
      },
      "source": [
        "## Strings\n",
        "\n",
        "Strings such as `hello world` in python behave just like lists, and a lot of what you learn about lists applies to them: they are **iterable**, and they have a length! But they have one critical additional property: they are **immutable**, that is they cant be changed!\n"
      ]
    },
    {
      "cell_type": "code",
      "execution_count": 28,
      "metadata": {
        "colab": {},
        "colab_type": "code",
        "id": "Cbkj834onHje"
      },
      "outputs": [],
      "source": [
        "var = \"This is a string\"\n",
        "print (var, len(var))\n",
        "print (var[3]) # the s of This"
      ]
    },
    {
      "cell_type": "code",
      "execution_count": 32,
      "metadata": {},
      "outputs": [],
      "source": [
        "for char in var:\n",
        "    print(char)"
      ]
    },
    {
      "cell_type": "code",
      "execution_count": 29,
      "metadata": {},
      "outputs": [],
      "source": [
        "var[3] = \"t\" # this will fail because immutability"
      ]
    },
    {
      "cell_type": "markdown",
      "metadata": {},
      "source": [
        "Strings cab be sliced just as lists can"
      ]
    },
    {
      "cell_type": "code",
      "execution_count": 27,
      "metadata": {
        "colab": {},
        "colab_type": "code",
        "id": "Cbkj834onHje"
      },
      "outputs": [],
      "source": [
        "#String slicing\n",
        "print (var[6:])\n",
        "print (var[1:3])\n",
        "print (var[:-1])\n",
        "print (var[2:10:2]) #the last parameter is for chagning the step size"
      ]
    },
    {
      "cell_type": "markdown",
      "metadata": {
        "colab_type": "text",
        "id": "zewV9rYmoM1J"
      },
      "source": [
        "### String Functions\n",
        "\n",
        "Some built-in functions for string manipulations:\n",
        "\n",
        "*   capitalize()\n",
        "*   center()\n",
        "*   count()\n",
        "*   decode()\n",
        "*   encode()\n",
        "*   endswith()\n",
        "*   expandtabs()\n",
        "*   find()\n",
        "*   format()\n",
        "*   index()\n",
        "*   isalpha()\n",
        "*   isdigit()\n",
        "*   islower()\n",
        "*   isspace()\n",
        "*   isupper()\n",
        "*   join()\n",
        "*   ljust()\n",
        "*   lower()\n",
        "*   isalnum()\n",
        "*   istitle()\n",
        "*   lstrip()\n",
        "*   rjust()\n",
        "*   splitlines()\n",
        "*   startswith()\n",
        "*   strip()\n",
        "*   partition()\n",
        "*   replace()\n",
        "*   rfind()\n",
        "*   rindex()\n",
        "*   rpartition()\n",
        "*   rsplit()\n",
        "*   rstrip()\n",
        "*   split()\n",
        "*   swapcase()\n",
        "*   title()\n",
        "*   translate()\n",
        "*   upper()\n"
      ]
    },
    {
      "cell_type": "markdown",
      "metadata": {
        "colab_type": "text",
        "id": "rUe6oWVsvj12"
      },
      "source": [
        "**[PRGRAMMING EXERCISE]**\n",
        "\n",
        "Consider the string \"HelloWorld,123,ThisIsUniv.Ai\". Find the number of uppercase, lowercase, special character and numerical characters.\n"
      ]
    },
    {
      "cell_type": "code",
      "execution_count": null,
      "metadata": {
        "colab": {},
        "colab_type": "code",
        "id": "68_U23yWsFQd"
      },
      "outputs": [],
      "source": [
        "#Try your code here"
      ]
    },
    {
      "cell_type": "markdown",
      "metadata": {
        "colab_type": "text",
        "id": "JLnDLEqpxV25"
      },
      "source": [
        "## Files\n",
        "\n",
        "The built-in `open()` function creates a Python file object, which serves as a link to a file residing on your machine. After calling 'open()', strings of data can be transferred to and from the associated external file by calling the returned file object's methods.\n",
        "\n",
        "At this point, you can read data from the file as a whole (`read()`, or `n` bytes at a time, `read(n)`. You can read a line at a time with `readline()`, and all the lines into a list of strings with `readlines()`. Similar methods exist for writing.\n",
        "\n",
        "You must close the file after you finish using it.\n",
        "\n",
        "But as you might have expected, you can treat a file just like a list even more idiomatically, as we shall see."
      ]
    },
    {
      "cell_type": "code",
      "execution_count": 37,
      "metadata": {},
      "outputs": [],
      "source": [
        "fd = open(\"data/Julius Caesar.txt\")\n",
        "counter = 0\n",
        "for line in fd:\n",
        "    if counter < 10: # print first 10 lines\n",
        "        print(\"<<\", line, \">>\")\n",
        "    counter = counter + 1 # also writeable as counter += 1\n",
        "fd.close()"
      ]
    },
    {
      "cell_type": "markdown",
      "metadata": {},
      "source": [
        "Notice that the newlines remain. You can use the string method `strip` to remove them."
      ]
    },
    {
      "cell_type": "code",
      "execution_count": 41,
      "metadata": {},
      "outputs": [],
      "source": [
        "fd = open(\"data/Julius Caesar.txt\")\n",
        "counter = 0\n",
        "for line in fd:\n",
        "    if counter < 10: # print first 10 lines\n",
        "        print(\"<<\", line.strip(), \">>\")\n",
        "    else:\n",
        "        break # break out of for loop\n",
        "    counter = counter + 1 # also writeable as counter += 1\n",
        "fd.close()\n",
        "print(counter)"
      ]
    },
    {
      "cell_type": "markdown",
      "metadata": {},
      "source": [
        "Above we added a `break` statement in the for loop which ended our iteration through the file. You can use `readlines()` here but it will read the entire file into memory."
      ]
    },
    {
      "cell_type": "code",
      "execution_count": 42,
      "metadata": {},
      "outputs": [],
      "source": [
        "fd = open(\"data/Julius Caesar.txt\")\n",
        "lines = [line.strip() for line in fd.readlines()]\n",
        "fd.close()\n",
        "print(len(lines))"
      ]
    },
    {
      "cell_type": "markdown",
      "metadata": {},
      "source": [
        "### What about writing?\n",
        "\n",
        "Lets write the first ten lines out..."
      ]
    },
    {
      "cell_type": "code",
      "execution_count": 44,
      "metadata": {},
      "outputs": [],
      "source": [
        "fd = open(\"data/Julius Caesar.txt\")\n",
        "fd2 = open(\"data/julfirst10.txt\", \"w\")\n",
        "counter = 0\n",
        "for line in fd:\n",
        "    if counter < 10: # print first 10 lines\n",
        "        print(\"<<\", line.strip(), \">>\")\n",
        "        fd2.write(line)\n",
        "    else:\n",
        "        break # break out of for loop\n",
        "    counter = counter + 1 # also writeable as counter += 1\n",
        "fd.close()\n",
        "fd2.close()\n",
        "print(counter)"
      ]
    },
    {
      "cell_type": "markdown",
      "metadata": {},
      "source": [
        "## A working Example"
      ]
    },
    {
      "cell_type": "code",
      "execution_count": 48,
      "metadata": {},
      "outputs": [],
      "source": [
        "## Read a file, parse lines, and get all words\n",
        "\n",
        "# make a list with all words in documents\n",
        "# the words can occur more than once\n",
        "wordlist = []  \n",
        "fd = open(\"data/Julius Caesar.txt\")\n",
        "lines = fd.readlines()\n",
        "fd.close()\n",
        "# strip newline characters and other whitespace off the edges\n",
        "cleaned_lines = [line.strip() for line in lines] \n",
        "# make a list of lists. \n",
        "# each inner list if the list of words on that line\n",
        "list_of_lines_words = [line.split() for line in lines]\n",
        "# Take each list of words, and get all the words\n",
        "for lines_words in list_of_lines_words:\n",
        "    wordlist = wordlist + lines_words # update the wordlist using the new list.\n",
        "print(wordlist[:1000]) # first 1000 words"
      ]
    }
  ]
}
