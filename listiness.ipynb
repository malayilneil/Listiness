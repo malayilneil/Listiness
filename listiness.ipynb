{
 "cells": [
  {
   "cell_type": "markdown",
   "metadata": {},
   "source": [
    "# Listiness.. or things that behave like lists"
   ]
  },
  {
   "cell_type": "markdown",
   "metadata": {},
   "source": [
    "Python puts great stock in the idea of having  **protocols** or mechanisms of behavior, and identifying cases in which this behavior is common.\n",
    "\n",
    "One of the most important ideas is that of things that behave like a *list of items*. "
   ]
  },
  {
   "cell_type": "markdown",
   "metadata": {
    "colab_type": "text",
    "id": "jDynSCDMwHcC"
   },
   "source": [
    "## Lists\n",
    "\n",
    "The first of these that we should consider, are, well, lists themselves :-). Lets see how python lists behave.\n",
    "\n",
    "A list in Python is a sequence of anything!\n",
    "\n",
    "Lists are mutable; you can insert and delete elements anytime."
   ]
  },
  {
   "cell_type": "code",
   "execution_count": 1,
   "metadata": {
    "colab": {},
    "colab_type": "code",
    "id": "kDz4HzEbwORg"
   },
   "outputs": [],
   "source": [
    "# CREATING A LIST\n",
    "\n",
    "# A list is made from zero or more elements, separated by commas, and surrounded by square\n",
    "empty_list = []\n",
    "working_days = ['Monday', 'Tuesday', 'Wednesday', 'Thursday', 'Friday']\n",
    "print (working_days[2])"
   ]
  },
  {
   "cell_type": "markdown",
   "metadata": {},
   "source": [
    "Notice that Python lists are indexed from 0. The first element gets index 0, the second element gets index 1, and so on. Thus `working_days[2]` gives us the 3rd element."
   ]
  },
  {
   "cell_type": "code",
   "execution_count": 2,
   "metadata": {
    "colab": {},
    "colab_type": "code",
    "id": "kDz4HzEbwORg"
   },
   "outputs": [
    {
     "name": "stdout",
     "output_type": "stream",
     "text": [
      "<class 'list'>\n"
     ]
    }
   ],
   "source": [
    "# An empty list can be created using the list() function:\n",
    "next_empty_list = list()\n",
    "print (type(next_empty_list))"
   ]
  },
  {
   "cell_type": "markdown",
   "metadata": {},
   "source": [
    "There is a class of objects in Python that are not lists, bur rather, like lists, have a sequential existent. We dont want to generate them until we need them because they are easy to generate and would otherwise take up memory. An example is the\n",
    "object created by the function `range(start, stop)` which just gives you sequential numbers from start to 1 before stop. To generate these numbers, we can pass them to the `list` function"
   ]
  },
  {
   "cell_type": "code",
   "execution_count": 4,
   "metadata": {
    "colab": {},
    "colab_type": "code",
    "id": "2w00JDg0wS3-"
   },
   "outputs": [
    {
     "name": "stdout",
     "output_type": "stream",
     "text": [
      "[1, 2, 3, 4, 5, 6, 7, 8, 9]\n"
     ]
    }
   ],
   "source": [
    "num_list = list(range(1,10)) \n",
    "print(num_list) "
   ]
  },
  {
   "cell_type": "code",
   "execution_count": 5,
   "metadata": {
    "colab": {},
    "colab_type": "code",
    "id": "VwQolwoUwUfE"
   },
   "outputs": [
    {
     "name": "stdout",
     "output_type": "stream",
     "text": [
      "[1, 8, 3, 4]\n"
     ]
    }
   ],
   "source": [
    "# Lists are mutable (elements are changeable) \n",
    "num_list = [1, 2, 3, 4]\n",
    "num_list[1] = 8 \n",
    "print (num_list)"
   ]
  },
  {
   "cell_type": "code",
   "execution_count": 6,
   "metadata": {
    "colab": {},
    "colab_type": "code",
    "id": "sdBbnLTVwXJf"
   },
   "outputs": [
    {
     "name": "stdout",
     "output_type": "stream",
     "text": [
      "[1, 2, 3, 4]\n",
      "4\n"
     ]
    }
   ],
   "source": [
    "# Indexing a list\n",
    "# - Any integer expression can be used as an index\n",
    "# - If an index has a negative value, it counts from backward\n",
    "lst = list(range(1,5))\n",
    "print(lst)\n",
    "print (lst[-1])"
   ]
  },
  {
   "cell_type": "markdown",
   "metadata": {},
   "source": [
    "You can get slices of lists"
   ]
  },
  {
   "cell_type": "code",
   "execution_count": 30,
   "metadata": {},
   "outputs": [
    {
     "data": {
      "text/plain": [
       "[1, 2, 3]"
      ]
     },
     "execution_count": 30,
     "metadata": {},
     "output_type": "execute_result"
    }
   ],
   "source": [
    "lst[0:3] # from 0, dont include whats at index 3"
   ]
  },
  {
   "cell_type": "code",
   "execution_count": 31,
   "metadata": {},
   "outputs": [
    {
     "data": {
      "text/plain": [
       "[2, 3]"
      ]
     },
     "execution_count": 31,
     "metadata": {},
     "output_type": "execute_result"
    }
   ],
   "source": [
    "lst[-3:-1]"
   ]
  },
  {
   "cell_type": "code",
   "execution_count": 7,
   "metadata": {
    "colab": {},
    "colab_type": "code",
    "id": "dsEJup_xwZYQ"
   },
   "outputs": [
    {
     "name": "stdout",
     "output_type": "stream",
     "text": [
      "[[1, 2, 3, 4, 5], ['PP', 'BDA', 'USP', 'WTA'], '6th sem'] 3\n"
     ]
    }
   ],
   "source": [
    "# A list can have another list, or anything else as its element\n",
    "numbers = [1, 2, 3, 4, 5]\n",
    "courses = ['PP', 'BDA', \"USP\", 'WTA'] \n",
    "new_list = [numbers, courses, '6th sem'] \n",
    "print (new_list, len(new_list))"
   ]
  },
  {
   "cell_type": "code",
   "execution_count": 8,
   "metadata": {
    "colab": {},
    "colab_type": "code",
    "id": "HiJrKfxtwboy"
   },
   "outputs": [
    {
     "name": "stdout",
     "output_type": "stream",
     "text": [
      "['a', 'b', 'c', 1, 2, 3, 4]\n"
     ]
    }
   ],
   "source": [
    "# List Operations\n",
    "# '+' for concatenation\n",
    "list_a = ['a','b','c'] \n",
    "list_no = [1, 2, 3, 4] \n",
    "list_new = list_a + list_no\n",
    "print (list_new)"
   ]
  },
  {
   "cell_type": "code",
   "execution_count": 9,
   "metadata": {
    "colab": {},
    "colab_type": "code",
    "id": "yxPMSYv2wi4y"
   },
   "outputs": [
    {
     "data": {
      "text/plain": [
       "True"
      ]
     },
     "execution_count": 9,
     "metadata": {},
     "output_type": "execute_result"
    }
   ],
   "source": [
    "#Membership (using 'in' operator)\n",
    "'a' in list_a"
   ]
  },
  {
   "cell_type": "markdown",
   "metadata": {},
   "source": [
    "## Operations on lists\n",
    "\n",
    "Lists support many methods which make using them simple. My favorite is `append`.\n",
    "\n",
    "### Growing lists"
   ]
  },
  {
   "cell_type": "code",
   "execution_count": 10,
   "metadata": {
    "colab": {},
    "colab_type": "code",
    "id": "N8t4LmEAwlLf"
   },
   "outputs": [
    {
     "name": "stdout",
     "output_type": "stream",
     "text": [
      "['a', 'b', 'c', 'd']\n"
     ]
    }
   ],
   "source": [
    "# GROWING METHODS\n",
    "# (i) append(x) - Adds a new element 'x' at the end of the list\n",
    "alist = ['a', 'b', 'c'] \n",
    "alist.append('d') \n",
    "print (alist)"
   ]
  },
  {
   "cell_type": "code",
   "execution_count": 11,
   "metadata": {
    "colab": {},
    "colab_type": "code",
    "id": "n1yaZeCJwuYN"
   },
   "outputs": [
    {
     "name": "stdout",
     "output_type": "stream",
     "text": [
      "['a', 'b', 'c', 'd', 1, 2, 3, 4]\n"
     ]
    }
   ],
   "source": [
    "# (ii) extend(list) - Adds a list to another list \n",
    "alist.extend(list_no)\n",
    "print (alist)"
   ]
  },
  {
   "cell_type": "code",
   "execution_count": 12,
   "metadata": {
    "colab": {},
    "colab_type": "code",
    "id": "eYF5krW9ww1a"
   },
   "outputs": [
    {
     "name": "stdout",
     "output_type": "stream",
     "text": [
      "['a', 'b', 'c', 'd', 'e', 1, 2, 3, 4]\n"
     ]
    }
   ],
   "source": [
    "# (iii) insert(i, x) - inserts a new element 'x' at specified index 'i' \n",
    "alist.insert(4,'e')\n",
    "print(alist)"
   ]
  },
  {
   "cell_type": "markdown",
   "metadata": {},
   "source": [
    "### Searching and Sorting"
   ]
  },
  {
   "cell_type": "code",
   "execution_count": 13,
   "metadata": {
    "colab": {},
    "colab_type": "code",
    "id": "EWEB7esEwyt2"
   },
   "outputs": [
    {
     "data": {
      "text/plain": [
       "2"
      ]
     },
     "execution_count": 13,
     "metadata": {},
     "output_type": "execute_result"
    }
   ],
   "source": [
    "# Searching methods\n",
    "# (i) index(x) - returns the index value of 'x' in the list\n",
    "alist = [1, 2, 3, 4, 5] \n",
    "alist.index(3)"
   ]
  },
  {
   "cell_type": "code",
   "execution_count": 14,
   "metadata": {
    "colab": {},
    "colab_type": "code",
    "id": "MtRQRHVZw0nR"
   },
   "outputs": [
    {
     "name": "stdout",
     "output_type": "stream",
     "text": [
      "[1, 2, 3, 4, 5, 3]\n"
     ]
    },
    {
     "data": {
      "text/plain": [
       "2"
      ]
     },
     "execution_count": 14,
     "metadata": {},
     "output_type": "execute_result"
    }
   ],
   "source": [
    "# (ii) count(x) - returns the number of occurrence of 'x' in the list eg:\n",
    "alist.append(3)\n",
    "print (alist) \n",
    "alist.count(3)"
   ]
  },
  {
   "cell_type": "code",
   "execution_count": 15,
   "metadata": {
    "colab": {},
    "colab_type": "code",
    "id": "QwRPFMVkw3b3"
   },
   "outputs": [
    {
     "data": {
      "text/plain": [
       "[1, 2, 3, 4, 7, 9]"
      ]
     },
     "execution_count": 15,
     "metadata": {},
     "output_type": "execute_result"
    }
   ],
   "source": [
    "# SORTING METHODS\n",
    "# (a) sort() - Orders a list 'in place'. Default ordering - ascending order\n",
    "num = [4, 2, 7, 3, 9, 1] \n",
    "num.sort()\n",
    "num"
   ]
  },
  {
   "cell_type": "code",
   "execution_count": 16,
   "metadata": {
    "colab": {},
    "colab_type": "code",
    "id": "72v6hE4rw51Y"
   },
   "outputs": [
    {
     "data": {
      "text/plain": [
       "[9, 7, 4, 3, 2, 1]"
      ]
     },
     "execution_count": 16,
     "metadata": {},
     "output_type": "execute_result"
    }
   ],
   "source": [
    "# To change the order of sorting, use the keyword 'reverse' as an argument to sort()\n",
    "num = [4, 2, 7, 3, 9, 1] \n",
    "num.sort(reverse = True)\n",
    "num"
   ]
  },
  {
   "cell_type": "code",
   "execution_count": 17,
   "metadata": {
    "colab": {},
    "colab_type": "code",
    "id": "C9YZUZcHw-4K"
   },
   "outputs": [
    {
     "data": {
      "text/plain": [
       "[2, 4, 6]"
      ]
     },
     "execution_count": 17,
     "metadata": {},
     "output_type": "execute_result"
    }
   ],
   "source": [
    "# (b) sorted(list) - returns the sorted 'list', but does not replace order in original list \n",
    "num = [ 4, 6, 2]\n",
    "num = sorted(num)\n",
    "num"
   ]
  },
  {
   "cell_type": "markdown",
   "metadata": {},
   "source": [
    "### Changing and shortening\n",
    "\n",
    "You can change any list by individually changing an element. There are some other things you can do as well..."
   ]
  },
  {
   "cell_type": "code",
   "execution_count": 18,
   "metadata": {
    "colab": {},
    "colab_type": "code",
    "id": "MIaVMe2vxCPr"
   },
   "outputs": [
    {
     "name": "stdout",
     "output_type": "stream",
     "text": [
      "[1, 2, 3, 4]\n",
      "[4, 3, 2, 1]\n"
     ]
    }
   ],
   "source": [
    "# Reverse a list\n",
    "\n",
    "# reversed(list) - returns the reverse of 'list' as iterator eg:\n",
    "L = list(range(1,5))\n",
    "print (L)\n",
    "print (list(reversed(L)))"
   ]
  },
  {
   "cell_type": "code",
   "execution_count": 19,
   "metadata": {
    "colab": {},
    "colab_type": "code",
    "id": "lpMHr74qxF55"
   },
   "outputs": [
    {
     "data": {
      "text/plain": [
       "[4, 7, 6, 3, 9]"
      ]
     },
     "execution_count": 19,
     "metadata": {},
     "output_type": "execute_result"
    }
   ],
   "source": [
    "# SHRINKING METHODS\n",
    "# (a) remove(x) - removes the element 'x' from the list\n",
    "num = [4, 7, 2, 6, 3, 9] \n",
    "num.remove(2)\n",
    "num"
   ]
  },
  {
   "cell_type": "code",
   "execution_count": 20,
   "metadata": {
    "colab": {},
    "colab_type": "code",
    "id": "a8W1o6D2xIyG"
   },
   "outputs": [
    {
     "data": {
      "text/plain": [
       "[4, 7, 2, 3, 9]"
      ]
     },
     "execution_count": 20,
     "metadata": {},
     "output_type": "execute_result"
    }
   ],
   "source": [
    "# (b) pop(i) - removes and returns the element in index position 'i'\n",
    "num = [4, 7, 2, 6, 3, 9] \n",
    "num.pop(3)\n",
    "num"
   ]
  },
  {
   "cell_type": "code",
   "execution_count": 21,
   "metadata": {
    "colab": {},
    "colab_type": "code",
    "id": "leECdDJzxLcU"
   },
   "outputs": [
    {
     "data": {
      "text/plain": [
       "[4, 7, 2, 6, 3]"
      ]
     },
     "execution_count": 21,
     "metadata": {},
     "output_type": "execute_result"
    }
   ],
   "source": [
    "# (c) pop() - removes the last element from the list\n",
    "num = [4, 7, 2, 6, 3, 9] \n",
    "num.pop()\n",
    "num"
   ]
  },
  {
   "cell_type": "code",
   "execution_count": 22,
   "metadata": {
    "colab": {},
    "colab_type": "code",
    "id": "u3mw0lvxxN5M"
   },
   "outputs": [
    {
     "data": {
      "text/plain": [
       "[]"
      ]
     },
     "execution_count": 22,
     "metadata": {},
     "output_type": "execute_result"
    }
   ],
   "source": [
    "# (d) clear() - removes all the elements from a list.\n",
    "num = [4, 7, 2, 6, 3, 9]\n",
    "num.clear()\n",
    "num"
   ]
  },
  {
   "cell_type": "markdown",
   "metadata": {},
   "source": [
    "## Iterating over lists\n",
    "\n",
    "Using a for loop to do iteration is quite simple."
   ]
  },
  {
   "cell_type": "code",
   "execution_count": 23,
   "metadata": {},
   "outputs": [
    {
     "name": "stdout",
     "output_type": "stream",
     "text": [
      "4\n",
      "7\n",
      "2\n",
      "6\n",
      "3\n",
      "9\n"
     ]
    }
   ],
   "source": [
    "num = [4, 7, 2, 6, 3, 9]\n",
    "for ele in num:\n",
    "    print(ele)"
   ]
  },
  {
   "cell_type": "markdown",
   "metadata": {},
   "source": [
    "You can now mix in conditionals to filter your iteration:"
   ]
  },
  {
   "cell_type": "code",
   "execution_count": 24,
   "metadata": {},
   "outputs": [
    {
     "name": "stdout",
     "output_type": "stream",
     "text": [
      "4\n",
      "2\n",
      "6\n"
     ]
    }
   ],
   "source": [
    "for ele in num:\n",
    "    if ele % 2 == 0: #even numbers only\n",
    "        print(ele)"
   ]
  },
  {
   "cell_type": "markdown",
   "metadata": {},
   "source": [
    "There is a short-cut iteration syntax called a list comprehension, often used to construct new lists"
   ]
  },
  {
   "cell_type": "code",
   "execution_count": 25,
   "metadata": {},
   "outputs": [
    {
     "data": {
      "text/plain": [
       "[4, 7, 2, 6, 3, 9]"
      ]
     },
     "execution_count": 25,
     "metadata": {},
     "output_type": "execute_result"
    }
   ],
   "source": [
    "list_with_same_as_num = [e for e in num]\n",
    "list_with_same_as_num"
   ]
  },
  {
   "cell_type": "markdown",
   "metadata": {},
   "source": [
    "This kind of syntax is really useful when combined with conditionals:"
   ]
  },
  {
   "cell_type": "code",
   "execution_count": 26,
   "metadata": {},
   "outputs": [
    {
     "data": {
      "text/plain": [
       "[4, 2, 6]"
      ]
     },
     "execution_count": 26,
     "metadata": {},
     "output_type": "execute_result"
    }
   ],
   "source": [
    "list_with_evens = [e for e in num if e % 2 == 0]\n",
    "list_with_evens"
   ]
  },
  {
   "cell_type": "markdown",
   "metadata": {
    "colab_type": "text",
    "id": "-kKCRDDZoNvk"
   },
   "source": [
    "## Strings\n",
    "\n",
    "Strings such as `hello world` in python behave just like lists, and a lot of what you learn about lists applies to them: they are **iterable**, and they have a length! But they have one critical additional property: they are **immutable**, that is they cant be changed!\n"
   ]
  },
  {
   "cell_type": "code",
   "execution_count": 28,
   "metadata": {
    "colab": {},
    "colab_type": "code",
    "id": "Cbkj834onHje"
   },
   "outputs": [
    {
     "name": "stdout",
     "output_type": "stream",
     "text": [
      "This is a string 16\n",
      "s\n"
     ]
    }
   ],
   "source": [
    "var = \"This is a string\"\n",
    "print (var, len(var))\n",
    "print (var[3]) # the s of This"
   ]
  },
  {
   "cell_type": "code",
   "execution_count": 32,
   "metadata": {},
   "outputs": [
    {
     "name": "stdout",
     "output_type": "stream",
     "text": [
      "T\n",
      "h\n",
      "i\n",
      "s\n",
      " \n",
      "i\n",
      "s\n",
      " \n",
      "a\n",
      " \n",
      "s\n",
      "t\n",
      "r\n",
      "i\n",
      "n\n",
      "g\n"
     ]
    }
   ],
   "source": [
    "for char in var:\n",
    "    print(char)"
   ]
  },
  {
   "cell_type": "code",
   "execution_count": 29,
   "metadata": {},
   "outputs": [
    {
     "ename": "TypeError",
     "evalue": "'str' object does not support item assignment",
     "output_type": "error",
     "traceback": [
      "\u001b[0;31m---------------------------------------------------------------------------\u001b[0m",
      "\u001b[0;31mTypeError\u001b[0m                                 Traceback (most recent call last)",
      "\u001b[0;32m<ipython-input-29-10983737f50b>\u001b[0m in \u001b[0;36m<module>\u001b[0;34m()\u001b[0m\n\u001b[0;32m----> 1\u001b[0;31m \u001b[0mvar\u001b[0m\u001b[0;34m[\u001b[0m\u001b[0;36m3\u001b[0m\u001b[0;34m]\u001b[0m \u001b[0;34m=\u001b[0m \u001b[0;34m\"t\"\u001b[0m \u001b[0;31m# this will fail because immutability\u001b[0m\u001b[0;34m\u001b[0m\u001b[0;34m\u001b[0m\u001b[0m\n\u001b[0m",
      "\u001b[0;31mTypeError\u001b[0m: 'str' object does not support item assignment"
     ]
    }
   ],
   "source": [
    "var[3] = \"t\" # this will fail because immutability"
   ]
  },
  {
   "cell_type": "markdown",
   "metadata": {},
   "source": [
    "Strings cab be sliced just as lists can"
   ]
  },
  {
   "cell_type": "code",
   "execution_count": 27,
   "metadata": {
    "colab": {},
    "colab_type": "code",
    "id": "Cbkj834onHje"
   },
   "outputs": [
    {
     "name": "stdout",
     "output_type": "stream",
     "text": [
      "16\n",
      "s\n",
      "s a string\n",
      "hi\n",
      "This is a strin\n",
      "i sa\n"
     ]
    }
   ],
   "source": [
    "#String slicing\n",
    "print (var[6:])\n",
    "print (var[1:3])\n",
    "print (var[:-1])\n",
    "print (var[2:10:2]) #the last parameter is for chagning the step size"
   ]
  },
  {
   "cell_type": "markdown",
   "metadata": {
    "colab_type": "text",
    "id": "zewV9rYmoM1J"
   },
   "source": [
    "### String Functions\n",
    "\n",
    "Some built-in functions for string manipulations:\n",
    "\n",
    "*   capitalize()\n",
    "*   center()\n",
    "*   count()\n",
    "*   decode()\n",
    "*   encode()\n",
    "*   endswith()\n",
    "*   expandtabs()\n",
    "*   find()\n",
    "*   format()\n",
    "*   index()\n",
    "*   isalpha()\n",
    "*   isdigit()\n",
    "*   islower()\n",
    "*   isspace()\n",
    "*   isupper()\n",
    "*   join()\n",
    "*   ljust()\n",
    "*   lower()\n",
    "*   isalnum()\n",
    "*   istitle()\n",
    "*   lstrip()\n",
    "*   rjust()\n",
    "*   splitlines()\n",
    "*   startswith()\n",
    "*   strip()\n",
    "*   partition()\n",
    "*   replace()\n",
    "*   rfind()\n",
    "*   rindex()\n",
    "*   rpartition()\n",
    "*   rsplit()\n",
    "*   rstrip()\n",
    "*   split()\n",
    "*   swapcase()\n",
    "*   title()\n",
    "*   translate()\n",
    "*   upper()\n"
   ]
  },
  {
   "cell_type": "markdown",
   "metadata": {
    "colab_type": "text",
    "id": "rUe6oWVsvj12"
   },
   "source": [
    "**[PRGRAMMING EXERCISE]**\n",
    "\n",
    "Consider the string \"HelloWorld,123,ThisIsUniv.Ai\". Find the number of uppercase, lowercase, special character and numerical characters.\n"
   ]
  },
  {
   "cell_type": "code",
   "execution_count": null,
   "metadata": {
    "colab": {},
    "colab_type": "code",
    "id": "68_U23yWsFQd"
   },
   "outputs": [],
   "source": [
    "#Try your code here"
   ]
  },
  {
   "cell_type": "markdown",
   "metadata": {
    "colab_type": "text",
    "id": "JLnDLEqpxV25"
   },
   "source": [
    "## Files\n",
    "\n",
    "The built-in `open()` function creates a Python file object, which serves as a link to a file residing on your machine. After calling 'open()', strings of data can be transferred to and from the associated external file by calling the returned file object's methods.\n",
    "\n",
    "At this point, you can read data from the file as a whole (`read()`, or `n` bytes at a time, `read(n)`. You can read a line at a time with `readline()`, and all the lines into a list of strings with `readlines()`. Similar methods exist for writing.\n",
    "\n",
    "You must close the file after you finish using it.\n",
    "\n",
    "But as you might have expected, you can treat a file just like a list even more idiomatically, as we shall see."
   ]
  },
  {
   "cell_type": "code",
   "execution_count": 37,
   "metadata": {},
   "outputs": [
    {
     "name": "stdout",
     "output_type": "stream",
     "text": [
      "<< THE TRAGEDY OF JULIUS CAESAR\n",
      " >>\n",
      "<< \n",
      " >>\n",
      "<< \n",
      " >>\n",
      "<< by William Shakespeare\n",
      " >>\n",
      "<< \n",
      " >>\n",
      "<< \n",
      " >>\n",
      "<< Contents\n",
      " >>\n",
      "<< \n",
      " >>\n",
      "<< ACT I\n",
      " >>\n",
      "<< Scene I. Rome. A street.\n",
      " >>\n"
     ]
    }
   ],
   "source": [
    "fd = open(\"data/Julius Caesar.txt\")\n",
    "counter = 0\n",
    "for line in fd:\n",
    "    if counter < 10: # print first 10 lines\n",
    "        print(\"<<\", line, \">>\")\n",
    "    counter = counter + 1 # also writeable as counter += 1\n",
    "fd.close()"
   ]
  },
  {
   "cell_type": "markdown",
   "metadata": {},
   "source": [
    "Notice that the newlines remain. You can use the string method `strip` to remove them."
   ]
  },
  {
   "cell_type": "code",
   "execution_count": 41,
   "metadata": {},
   "outputs": [
    {
     "name": "stdout",
     "output_type": "stream",
     "text": [
      "<< THE TRAGEDY OF JULIUS CAESAR >>\n",
      "<<  >>\n",
      "<<  >>\n",
      "<< by William Shakespeare >>\n",
      "<<  >>\n",
      "<<  >>\n",
      "<< Contents >>\n",
      "<<  >>\n",
      "<< ACT I >>\n",
      "<< Scene I. Rome. A street. >>\n",
      "10\n"
     ]
    }
   ],
   "source": [
    "fd = open(\"data/Julius Caesar.txt\")\n",
    "counter = 0\n",
    "for line in fd:\n",
    "    if counter < 10: # print first 10 lines\n",
    "        print(\"<<\", line.strip(), \">>\")\n",
    "    else:\n",
    "        break # break out of for loop\n",
    "    counter = counter + 1 # also writeable as counter += 1\n",
    "fd.close()\n",
    "print(counter)"
   ]
  },
  {
   "cell_type": "markdown",
   "metadata": {},
   "source": [
    "Above we added a `break` statement in the for loop which ended our iteration through the file. You can use `readlines()` here but it will read the entire file into memory."
   ]
  },
  {
   "cell_type": "code",
   "execution_count": 42,
   "metadata": {},
   "outputs": [
    {
     "name": "stdout",
     "output_type": "stream",
     "text": [
      "4639\n"
     ]
    }
   ],
   "source": [
    "fd = open(\"data/Julius Caesar.txt\")\n",
    "lines = [line.strip() for line in fd.readlines()]\n",
    "fd.close()\n",
    "print(len(lines))"
   ]
  },
  {
   "cell_type": "markdown",
   "metadata": {},
   "source": [
    "### What about writing?\n",
    "\n",
    "Lets write the first ten lines out..."
   ]
  },
  {
   "cell_type": "code",
   "execution_count": 44,
   "metadata": {},
   "outputs": [
    {
     "name": "stdout",
     "output_type": "stream",
     "text": [
      "<< THE TRAGEDY OF JULIUS CAESAR >>\n",
      "<<  >>\n",
      "<<  >>\n",
      "<< by William Shakespeare >>\n",
      "<<  >>\n",
      "<<  >>\n",
      "<< Contents >>\n",
      "<<  >>\n",
      "<< ACT I >>\n",
      "<< Scene I. Rome. A street. >>\n",
      "10\n"
     ]
    }
   ],
   "source": [
    "fd = open(\"data/Julius Caesar.txt\")\n",
    "fd2 = open(\"data/julfirst10.txt\", \"w\")\n",
    "counter = 0\n",
    "for line in fd:\n",
    "    if counter < 10: # print first 10 lines\n",
    "        print(\"<<\", line.strip(), \">>\")\n",
    "        fd2.write(line)\n",
    "    else:\n",
    "        break # break out of for loop\n",
    "    counter = counter + 1 # also writeable as counter += 1\n",
    "fd.close()\n",
    "fd2.close()\n",
    "print(counter)"
   ]
  },
  {
   "cell_type": "markdown",
   "metadata": {},
   "source": [
    "## A working Example"
   ]
  },
  {
   "cell_type": "code",
   "execution_count": 48,
   "metadata": {},
   "outputs": [
    {
     "name": "stdout",
     "output_type": "stream",
     "text": [
      "['THE', 'TRAGEDY', 'OF', 'JULIUS', 'CAESAR', 'by', 'William', 'Shakespeare', 'Contents', 'ACT', 'I', 'Scene', 'I.', 'Rome.', 'A', 'street.', 'Scene', 'II.', 'The', 'same.', 'A', 'public', 'place.', 'Scene', 'III.', 'The', 'same.', 'A', 'street.', 'ACT', 'II', 'Scene', 'I.', 'Rome.', 'Brutusâ€™', 'orchard.', 'Scene', 'II.', 'A', 'room', 'in', 'Caesarâ€™s', 'palace.', 'Scene', 'III.', 'A', 'street', 'near', 'the', 'Capitol.', 'Scene', 'IV.', 'Another', 'part', 'of', 'the', 'same', 'street,', 'before', 'the', 'house', 'of', 'Brutus.', 'ACT', 'III', 'Scene', 'I.', 'Rome.', 'Before', 'the', 'Capitol;', 'the', 'Senate', 'sitting.', 'Scene', 'II.', 'The', 'same.', 'The', 'Forum.', 'Scene', 'III.', 'The', 'same.', 'A', 'street.', 'ACT', 'IV', 'Scene', 'I.', 'A', 'room', 'in', 'Antonyâ€™s', 'house.', 'Scene', 'II.', 'Before', 'Brutusâ€™', 'tent,', 'in', 'the', 'camp', 'near', 'Sardis.', 'Scene', 'III.', 'Within', 'the', 'tent', 'of', 'Brutus.', 'ACT', 'V', 'Scene', 'I.', 'The', 'plains', 'of', 'Philippi.', 'Scene', 'II.', 'The', 'same.', 'The', 'field', 'of', 'battle.', 'Scene', 'III.', 'Another', 'part', 'of', 'the', 'field.', 'Scene', 'IV.', 'Another', 'part', 'of', 'the', 'field.', 'Scene', 'V.', 'Another', 'part', 'of', 'the', 'field.', 'Dramatis', 'PersonÃ¦', 'JULIUS', 'CAESAR', 'OCTAVIUS', 'CAESAR,', 'Triumvir', 'after', 'his', 'death.', 'MARCUS', 'ANTONIUS,', 'â€\\x9d', 'â€\\x9d', 'â€\\x9d', 'M.', 'AEMILIUS', 'LEPIDUS,', 'â€\\x9d', 'â€\\x9d', 'â€\\x9d', 'CICERO,', 'PUBLIUS,', 'POPILIUS', 'LENA,', 'Senators.', 'MARCUS', 'BRUTUS,', 'Conspirator', 'against', 'Caesar.', 'CASSIUS,', 'â€\\x9d', 'â€\\x9d', 'â€\\x9d', 'CASCA,', 'â€\\x9d', 'â€\\x9d', 'â€\\x9d', 'TREBONIUS,', 'â€\\x9d', 'â€\\x9d', 'â€\\x9d', 'LIGARIUS,â€\\x9d', 'â€\\x9d', 'â€\\x9d', 'DECIUS', 'BRUTUS,', 'â€\\x9d', 'â€\\x9d', 'â€\\x9d', 'METELLUS', 'CIMBER,', 'â€\\x9d', 'â€\\x9d', 'â€\\x9d', 'CINNA,', 'â€\\x9d', 'â€\\x9d', 'â€\\x9d', 'FLAVIUS,', 'tribune', 'MARULLUS,', 'tribune', 'ARTEMIDORUS,', 'a', 'Sophist', 'of', 'Cnidos.', 'A', 'Soothsayer', 'CINNA,', 'a', 'poet.', 'Another', 'Poet.', 'LUCILIUS,', 'TITINIUS,', 'MESSALA,', 'young', 'CATO,', 'and', 'VOLUMNIUS,', 'Friends', 'to', 'Brutus', 'and', 'Cassius.', 'VARRO,', 'CLITUS,', 'CLAUDIUS,', 'STRATO,', 'LUCIUS,', 'DARDANIUS,', 'Servants', 'to', 'Brutus', 'PINDARUS,', 'Servant', 'to', 'Cassius', 'CALPHURNIA,', 'wife', 'to', 'Caesar', 'PORTIA,', 'wife', 'to', 'Brutus', 'The', 'Ghost', 'of', 'Caesar', 'Senators,', 'Citizens,', 'Soldiers,', 'Commoners,', 'Messengers,', 'and', 'Servants.', 'SCENE:', 'Rome,', 'the', 'conspiratorsâ€™', 'camp', 'near', 'Sardis,', 'and', 'the', 'plains', 'of', 'Philippi.', 'ACT', 'I', 'SCENE', 'I.', 'Rome.', 'A', 'street.', 'Enter', 'Flavius,', 'Marullus', 'and', 'a', 'throng', 'of', 'Citizens.', 'FLAVIUS.', 'Hence!', 'home,', 'you', 'idle', 'creatures,', 'get', 'you', 'home.', 'Is', 'this', 'a', 'holiday?', 'What,', 'know', 'you', 'not,', 'Being', 'mechanical,', 'you', 'ought', 'not', 'walk', 'Upon', 'a', 'labouring', 'day', 'without', 'the', 'sign', 'Of', 'your', 'profession?', 'Speak,', 'what', 'trade', 'art', 'thou?', 'CARPENTER.', 'Why,', 'sir,', 'a', 'carpenter.', 'MARULLUS.', 'Where', 'is', 'thy', 'leather', 'apron', 'and', 'thy', 'rule?', 'What', 'dost', 'thou', 'with', 'thy', 'best', 'apparel', 'on?', 'You,', 'sir,', 'what', 'trade', 'are', 'you?', 'COBBLER.', 'Truly,', 'sir,', 'in', 'respect', 'of', 'a', 'fine', 'workman,', 'I', 'am', 'but,', 'as', 'you', 'would', 'say,', 'a', 'cobbler.', 'MARULLUS.', 'But', 'what', 'trade', 'art', 'thou?', 'Answer', 'me', 'directly.', 'COBBLER.', 'A', 'trade,', 'sir,', 'that', 'I', 'hope', 'I', 'may', 'use', 'with', 'a', 'safe', 'conscience,', 'which', 'is', 'indeed,', 'sir,', 'a', 'mender', 'of', 'bad', 'soles.', 'MARULLUS.', 'What', 'trade,', 'thou', 'knave?', 'Thou', 'naughty', 'knave,', 'what', 'trade?', 'COBBLER.', 'Nay,', 'I', 'beseech', 'you,', 'sir,', 'be', 'not', 'out', 'with', 'me;', 'yet,', 'if', 'you', 'be', 'out,', 'sir,', 'I', 'can', 'mend', 'you.', 'MARULLUS.', 'What', 'meanâ€™st', 'thou', 'by', 'that?', 'Mend', 'me,', 'thou', 'saucy', 'fellow!', 'COBBLER.', 'Why,', 'sir,', 'cobble', 'you.', 'FLAVIUS.', 'Thou', 'art', 'a', 'cobbler,', 'art', 'thou?', 'COBBLER.', 'Truly,', 'sir,', 'all', 'that', 'I', 'live', 'by', 'is', 'with', 'the', 'awl;', 'I', 'meddle', 'with', 'no', 'tradesmanâ€™s', 'matters,', 'nor', 'womenâ€™s', 'matters,', 'but', 'withal', 'I', 'am', 'indeed,', 'sir,', 'a', 'surgeon', 'to', 'old', 'shoes:', 'when', 'they', 'are', 'in', 'great', 'danger,', 'I', 'recover', 'them.', 'As', 'proper', 'men', 'as', 'ever', 'trod', 'upon', 'neatâ€™s', 'leather', 'have', 'gone', 'upon', 'my', 'handiwork.', 'FLAVIUS.', 'But', 'wherefore', 'art', 'not', 'in', 'thy', 'shop', 'today?', 'Why', 'dost', 'thou', 'lead', 'these', 'men', 'about', 'the', 'streets?', 'COBBLER.', 'Truly,', 'sir,', 'to', 'wear', 'out', 'their', 'shoes,', 'to', 'get', 'myself', 'into', 'more', 'work.', 'But', 'indeed,', 'sir,', 'we', 'make', 'holiday', 'to', 'see', 'Caesar,', 'and', 'to', 'rejoice', 'in', 'his', 'triumph.', 'MARULLUS.', 'Wherefore', 'rejoice?', 'What', 'conquest', 'brings', 'he', 'home?', 'What', 'tributaries', 'follow', 'him', 'to', 'Rome,', 'To', 'grace', 'in', 'captive', 'bonds', 'his', 'chariot', 'wheels?', 'You', 'blocks,', 'you', 'stones,', 'you', 'worse', 'than', 'senseless', 'things!', 'O', 'you', 'hard', 'hearts,', 'you', 'cruel', 'men', 'of', 'Rome,', 'Knew', 'you', 'not', 'Pompey?', 'Many', 'a', 'time', 'and', 'oft', 'Have', 'you', 'climbâ€™d', 'up', 'to', 'walls', 'and', 'battlements,', 'To', 'towers', 'and', 'windows,', 'yea,', 'to', 'chimney', 'tops,', 'Your', 'infants', 'in', 'your', 'arms,', 'and', 'there', 'have', 'sat', 'The', 'livelong', 'day', 'with', 'patient', 'expectation,', 'To', 'see', 'great', 'Pompey', 'pass', 'the', 'streets', 'of', 'Rome.', 'And', 'when', 'you', 'saw', 'his', 'chariot', 'but', 'appear,', 'Have', 'you', 'not', 'made', 'an', 'universal', 'shout,', 'That', 'Tiber', 'trembled', 'underneath', 'her', 'banks', 'To', 'hear', 'the', 'replication', 'of', 'your', 'sounds', 'Made', 'in', 'her', 'concave', 'shores?', 'And', 'do', 'you', 'now', 'put', 'on', 'your', 'best', 'attire?', 'And', 'do', 'you', 'now', 'cull', 'out', 'a', 'holiday?', 'And', 'do', 'you', 'now', 'strew', 'flowers', 'in', 'his', 'way,', 'That', 'comes', 'in', 'triumph', 'over', 'Pompeyâ€™s', 'blood?', 'Be', 'gone!', 'Run', 'to', 'your', 'houses,', 'fall', 'upon', 'your', 'knees,', 'Pray', 'to', 'the', 'gods', 'to', 'intermit', 'the', 'plague', 'That', 'needs', 'must', 'light', 'on', 'this', 'ingratitude.', 'FLAVIUS.', 'Go,', 'go,', 'good', 'countrymen,', 'and,', 'for', 'this', 'fault', 'Assemble', 'all', 'the', 'poor', 'men', 'of', 'your', 'sort,', 'Draw', 'them', 'to', 'Tiber', 'banks,', 'and', 'weep', 'your', 'tears', 'Into', 'the', 'channel,', 'till', 'the', 'lowest', 'stream', 'Do', 'kiss', 'the', 'most', 'exalted', 'shores', 'of', 'all.', '[_Exeunt', 'Citizens._]', 'See', 'whether', 'their', 'basest', 'metal', 'be', 'not', 'movâ€™d;', 'They', 'vanish', 'tongue-tied', 'in', 'their', 'guiltiness.', 'Go', 'you', 'down', 'that', 'way', 'towards', 'the', 'Capitol;', 'This', 'way', 'will', 'I.', 'Disrobe', 'the', 'images,', 'If', 'you', 'do', 'find', 'them', 'deckâ€™d', 'with', 'ceremonies.', 'MARULLUS.', 'May', 'we', 'do', 'so?', 'You', 'know', 'it', 'is', 'the', 'feast', 'of', 'Lupercal.', 'FLAVIUS.', 'It', 'is', 'no', 'matter;', 'let', 'no', 'images', 'Be', 'hung', 'with', 'Caesarâ€™s', 'trophies.', 'Iâ€™ll', 'about', 'And', 'drive', 'away', 'the', 'vulgar', 'from', 'the', 'streets;', 'So', 'do', 'you', 'too,', 'where', 'you', 'perceive', 'them', 'thick.', 'These', 'growing', 'feathers', 'pluckâ€™d', 'from', 'Caesarâ€™s', 'wing', 'Will', 'make', 'him', 'fly', 'an', 'ordinary', 'pitch,', 'Who', 'else', 'would', 'soar', 'above', 'the', 'view', 'of', 'men,', 'And', 'keep', 'us', 'all', 'in', 'servile', 'fearfulness.', '[_Exeunt._]', 'SCENE', 'II.', 'The', 'same.', 'A', 'public', 'place.', 'Enter,', 'in', 'procession,', 'with', 'music,', 'Caesar;', 'Antony,', 'for', 'the', 'course;', 'Calphurnia,', 'Portia,', 'Decius,', 'Cicero,', 'Brutus,', 'Cassius', 'and', 'Casca;', 'a', 'great', 'crowd', 'following,', 'among', 'them', 'a', 'Soothsayer.', 'CAESAR.', 'Calphurnia.', 'CASCA.', 'Peace,', 'ho!', 'Caesar', 'speaks.', '[_Music', 'ceases._]', 'CAESAR.', 'Calphurnia.', 'CALPHURNIA.', 'Here,', 'my', 'lord.', 'CAESAR.', 'Stand', 'you', 'directly', 'in', 'Antoniusâ€™', 'way,', 'When', 'he', 'doth', 'run', 'his', 'course.', 'Antonius.', 'ANTONY.', 'Caesar,', 'my', 'lord?', 'CAESAR.', 'Forget', 'not', 'in', 'your', 'speed,', 'Antonius,', 'To', 'touch', 'Calphurnia;', 'for', 'our', 'elders', 'say,', 'The', 'barren,', 'touched', 'in', 'this', 'holy', 'chase,', 'Shake', 'off', 'their', 'sterile', 'curse.', 'ANTONY.', 'I', 'shall', 'remember.']\n"
     ]
    }
   ],
   "source": [
    "## Read a file, parse lines, and get all words\n",
    "\n",
    "# make a list with all words in documents\n",
    "# the words can occur more than once\n",
    "wordlist = []  \n",
    "fd = open(\"data/Julius Caesar.txt\")\n",
    "lines = fd.readlines()\n",
    "fd.close()\n",
    "# strip newline characters and other whitespace off the edges\n",
    "cleaned_lines = [line.strip() for line in lines] \n",
    "# make a list of lists. \n",
    "# each inner list if the list of words on that line\n",
    "list_of_lines_words = [line.split() for line in lines]\n",
    "# Take each list of words, and get all the words\n",
    "for lines_words in list_of_lines_words:\n",
    "    wordlist = wordlist + lines_words # update the wordlist using the new list.\n",
    "print(wordlist[:1000]) # first 1000 words"
   ]
  }
 ],
 "metadata": {
  "colab": {
   "collapsed_sections": [],
   "name": "L1 - lec2.ipynb",
   "provenance": []
  },
  "kernelspec": {
   "display_name": "Python 3",
   "language": "python",
   "name": "python3"
  },
  "language_info": {
   "codemirror_mode": {
    "name": "ipython",
    "version": 3
   },
   "file_extension": ".py",
   "mimetype": "text/x-python",
   "name": "python",
   "nbconvert_exporter": "python",
   "pygments_lexer": "ipython3",
   "version": "3.6.8"
  }
 },
 "nbformat": 4,
 "nbformat_minor": 2
}
